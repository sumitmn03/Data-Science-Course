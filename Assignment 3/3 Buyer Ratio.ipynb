{
 "cells": [
  {
   "cell_type": "markdown",
   "id": "7670c583",
   "metadata": {},
   "source": [
    "To test whether the male-female buyer ratios are similar across regions,we will use the chi-square test for independence."
   ]
  },
  {
   "cell_type": "markdown",
   "id": "e8e58416",
   "metadata": {},
   "source": [
    "- Null Hypothesis (H0): Male-female buyer ratios are similar across regions.\n",
    "\n",
    "- Alternative Hypothesis (H1): Male-female buyer ratios are not similar across regions."
   ]
  },
  {
   "cell_type": "code",
   "execution_count": 10,
   "id": "3d9ff749",
   "metadata": {},
   "outputs": [],
   "source": [
    "#Contigency Table\n",
    "\n",
    "#Observed Values\tEast\tWest\tNorth\tSouth\n",
    "#Males\t        50\t    142\t    131\t    70\n",
    "#Females\t       435\t    1523\t1356\t750"
   ]
  },
  {
   "cell_type": "code",
   "execution_count": 11,
   "id": "5255ad1f",
   "metadata": {},
   "outputs": [],
   "source": [
    "import pandas as pd\n",
    "import scipy.stats as stats"
   ]
  },
  {
   "cell_type": "code",
   "execution_count": 12,
   "id": "748699bc",
   "metadata": {},
   "outputs": [
    {
     "data": {
      "text/html": [
       "<div>\n",
       "<style scoped>\n",
       "    .dataframe tbody tr th:only-of-type {\n",
       "        vertical-align: middle;\n",
       "    }\n",
       "\n",
       "    .dataframe tbody tr th {\n",
       "        vertical-align: top;\n",
       "    }\n",
       "\n",
       "    .dataframe thead th {\n",
       "        text-align: right;\n",
       "    }\n",
       "</style>\n",
       "<table border=\"1\" class=\"dataframe\">\n",
       "  <thead>\n",
       "    <tr style=\"text-align: right;\">\n",
       "      <th></th>\n",
       "      <th>Observed Values</th>\n",
       "      <th>East</th>\n",
       "      <th>West</th>\n",
       "      <th>North</th>\n",
       "      <th>South</th>\n",
       "    </tr>\n",
       "  </thead>\n",
       "  <tbody>\n",
       "    <tr>\n",
       "      <th>0</th>\n",
       "      <td>Males</td>\n",
       "      <td>50</td>\n",
       "      <td>142</td>\n",
       "      <td>131</td>\n",
       "      <td>70</td>\n",
       "    </tr>\n",
       "    <tr>\n",
       "      <th>1</th>\n",
       "      <td>Females</td>\n",
       "      <td>435</td>\n",
       "      <td>1523</td>\n",
       "      <td>1356</td>\n",
       "      <td>750</td>\n",
       "    </tr>\n",
       "  </tbody>\n",
       "</table>\n",
       "</div>"
      ],
      "text/plain": [
       "  Observed Values  East  West  North  South\n",
       "0           Males    50   142    131     70\n",
       "1         Females   435  1523   1356    750"
      ]
     },
     "execution_count": 12,
     "metadata": {},
     "output_type": "execute_result"
    }
   ],
   "source": [
    "# Load the dataset\n",
    "data=pd.read_csv('BuyerRatio.csv')\n",
    "data.head()"
   ]
  },
  {
   "cell_type": "code",
   "execution_count": 13,
   "id": "94739d20",
   "metadata": {},
   "outputs": [
    {
     "name": "stdout",
     "output_type": "stream",
     "text": [
      "[[  50  142  131   70]\n",
      " [ 435 1523 1356  750]]\n"
     ]
    }
   ],
   "source": [
    "# Extract the observed values\n",
    "observed_values = data.iloc[:, 1:].values\n",
    "\n",
    "print(observed_values)"
   ]
  },
  {
   "cell_type": "code",
   "execution_count": 14,
   "id": "b6fa94a6",
   "metadata": {},
   "outputs": [
    {
     "name": "stdout",
     "output_type": "stream",
     "text": [
      "Chi-square statistic: 1.595945538661058\n",
      "P-value: 0.6603094907091882\n",
      "Fail to reject the null hypothesis. Male-female buyer ratios are similar across regions.\n"
     ]
    }
   ],
   "source": [
    "# Perform chi-square test\n",
    "chi2, p_value, _, _ = stats.chi2_contingency(observed_values)\n",
    "\n",
    "print(f'Chi-square statistic: {chi2}')\n",
    "print(f'P-value: {p_value}')\n",
    "\n",
    "# Check significance at the 0.05\n",
    "alpha = 0.05\n",
    "if p_value < alpha:\n",
    "    print('Reject the null hypothesis. Male-female buyer ratios are not similar across regions.')\n",
    "else:\n",
    "    print('Fail to reject the null hypothesis. Male-female buyer ratios are similar across regions.')\n"
   ]
  },
  {
   "cell_type": "markdown",
   "id": "beb76271",
   "metadata": {},
   "source": [
    "The P-value of the Chi-square test is 0.66\n",
    "\n",
    "Since the p-value from the Chi-square test is more than the significance level, We can say that we fail to reject the null hypothesis.\n",
    "\n",
    "Hence, Male-female buyer ratios are similar across regions."
   ]
  }
 ],
 "metadata": {
  "kernelspec": {
   "display_name": "Python 3 (ipykernel)",
   "language": "python",
   "name": "python3"
  },
  "language_info": {
   "codemirror_mode": {
    "name": "ipython",
    "version": 3
   },
   "file_extension": ".py",
   "mimetype": "text/x-python",
   "name": "python",
   "nbconvert_exporter": "python",
   "pygments_lexer": "ipython3",
   "version": "3.10.12"
  }
 },
 "nbformat": 4,
 "nbformat_minor": 5
}
