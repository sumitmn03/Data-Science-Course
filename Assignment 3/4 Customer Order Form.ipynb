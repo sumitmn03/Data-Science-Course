{
 "cells": [
  {
   "cell_type": "markdown",
   "id": "e627a03e",
   "metadata": {},
   "source": [
    "To analyze whether the defective percentage varies by center, we can perform a chi-square test for independence using the provided data. This test will help us determine if there is a significant association between the center and the defective status."
   ]
  },
  {
   "cell_type": "code",
   "execution_count": 18,
   "id": "4ff58397",
   "metadata": {},
   "outputs": [
    {
     "name": "stdout",
     "output_type": "stream",
     "text": [
      "  Phillippines   Indonesia       Malta       India\n",
      "0   Error Free  Error Free   Defective  Error Free\n",
      "1   Error Free  Error Free  Error Free   Defective\n",
      "2   Error Free   Defective   Defective  Error Free\n",
      "3   Error Free  Error Free  Error Free  Error Free\n",
      "4   Error Free  Error Free   Defective  Error Free\n"
     ]
    }
   ],
   "source": [
    "import pandas as pd\n",
    "import scipy.stats as stats\n",
    "\n",
    "# Load the data from the CSV file\n",
    "df = pd.read_csv(\"Costomer+OrderForm.csv\")\n",
    "\n",
    "# Display the loaded data\n",
    "print(df.head())"
   ]
  },
  {
   "cell_type": "code",
   "execution_count": 19,
   "id": "a3a1fefd",
   "metadata": {
    "scrolled": true
   },
   "outputs": [
    {
     "name": "stdout",
     "output_type": "stream",
     "text": [
      "Phillippines\n",
      "Error Free    271\n",
      "Defective      29\n",
      "Name: count, dtype: int64 Indonesia\n",
      "Error Free    267\n",
      "Defective      33\n",
      "Name: count, dtype: int64 Malta\n",
      "Error Free    269\n",
      "Defective      31\n",
      "Name: count, dtype: int64 India\n",
      "Error Free    280\n",
      "Defective      20\n",
      "Name: count, dtype: int64\n"
     ]
    }
   ],
   "source": [
    "print(df['Phillippines'].value_counts(),df['Indonesia'].value_counts(),df['Malta'].value_counts(),df['India'].value_counts())"
   ]
  },
  {
   "cell_type": "code",
   "execution_count": 20,
   "id": "852c0836",
   "metadata": {
    "scrolled": true
   },
   "outputs": [
    {
     "data": {
      "text/plain": [
       "[[271, 267, 269, 280], [29, 33, 31, 20]]"
      ]
     },
     "execution_count": 20,
     "metadata": {},
     "output_type": "execute_result"
    }
   ],
   "source": [
    "observed_values=([[271,267,269,280],[29,33,31,20]])\n",
    "observed_values"
   ]
  },
  {
   "cell_type": "code",
   "execution_count": 21,
   "id": "76e9d621",
   "metadata": {},
   "outputs": [
    {
     "name": "stdout",
     "output_type": "stream",
     "text": [
      "Chi-square Statistic: 3.858960685820355\n",
      "P-value: 0.2771020991233135\n",
      "Fail to reject the null hypothesis. There is no significant variation in the defective percentage by center.\n"
     ]
    }
   ],
   "source": [
    "chi2_stat, p_value, _, _ = stats.chi2_contingency(observed_values)\n",
    "\n",
    "# Print results\n",
    "print(f'Chi-square Statistic: {chi2_stat}')\n",
    "print(f'P-value: {p_value}')\n",
    "\n",
    "# Check significance at 5% level\n",
    "alpha = 0.05\n",
    "if p_value < alpha:\n",
    "    print('Reject the null hypothesis. The defective percentage varies by center.')\n",
    "else:\n",
    "    print('Fail to reject the null hypothesis. There is no significant variation in the defective percentage by center.')"
   ]
  },
  {
   "cell_type": "markdown",
   "id": "1f92355d",
   "metadata": {},
   "source": [
    "The P-value of the Chi-square test is 0.277\n",
    "\n",
    "Since the p-value from the Chi-square test is more than the significance level, We can say that we fail to reject the null hypothesis.\n",
    "\n",
    "Hence, There is no significant variation in the defective percentage by center."
   ]
  }
 ],
 "metadata": {
  "kernelspec": {
   "display_name": "Python 3 (ipykernel)",
   "language": "python",
   "name": "python3"
  },
  "language_info": {
   "codemirror_mode": {
    "name": "ipython",
    "version": 3
   },
   "file_extension": ".py",
   "mimetype": "text/x-python",
   "name": "python",
   "nbconvert_exporter": "python",
   "pygments_lexer": "ipython3",
   "version": "3.10.12"
  }
 },
 "nbformat": 4,
 "nbformat_minor": 5
}
