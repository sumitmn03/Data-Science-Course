{
 "cells": [
  {
   "cell_type": "markdown",
   "id": "88fe73f8",
   "metadata": {},
   "source": [
    "- Null Hypothesis (H0): There is no significant difference in the diameter of cutlets between Unit A and Unit B.\n",
    "\n",
    "- Alternative Hypothesis (H1): There is a significant difference in the diameter of cutlets between Unit A and Unit B."
   ]
  },
  {
   "cell_type": "code",
   "execution_count": 1,
   "id": "cfdc667c",
   "metadata": {},
   "outputs": [
    {
     "data": {
      "text/html": [
       "<div>\n",
       "<style scoped>\n",
       "    .dataframe tbody tr th:only-of-type {\n",
       "        vertical-align: middle;\n",
       "    }\n",
       "\n",
       "    .dataframe tbody tr th {\n",
       "        vertical-align: top;\n",
       "    }\n",
       "\n",
       "    .dataframe thead th {\n",
       "        text-align: right;\n",
       "    }\n",
       "</style>\n",
       "<table border=\"1\" class=\"dataframe\">\n",
       "  <thead>\n",
       "    <tr style=\"text-align: right;\">\n",
       "      <th></th>\n",
       "      <th>Unit A</th>\n",
       "      <th>Unit B</th>\n",
       "    </tr>\n",
       "  </thead>\n",
       "  <tbody>\n",
       "    <tr>\n",
       "      <th>0</th>\n",
       "      <td>6.8090</td>\n",
       "      <td>6.7703</td>\n",
       "    </tr>\n",
       "    <tr>\n",
       "      <th>1</th>\n",
       "      <td>6.4376</td>\n",
       "      <td>7.5093</td>\n",
       "    </tr>\n",
       "    <tr>\n",
       "      <th>2</th>\n",
       "      <td>6.9157</td>\n",
       "      <td>6.7300</td>\n",
       "    </tr>\n",
       "    <tr>\n",
       "      <th>3</th>\n",
       "      <td>7.3012</td>\n",
       "      <td>6.7878</td>\n",
       "    </tr>\n",
       "    <tr>\n",
       "      <th>4</th>\n",
       "      <td>7.4488</td>\n",
       "      <td>7.1522</td>\n",
       "    </tr>\n",
       "  </tbody>\n",
       "</table>\n",
       "</div>"
      ],
      "text/plain": [
       "   Unit A  Unit B\n",
       "0  6.8090  6.7703\n",
       "1  6.4376  7.5093\n",
       "2  6.9157  6.7300\n",
       "3  7.3012  6.7878\n",
       "4  7.4488  7.1522"
      ]
     },
     "execution_count": 1,
     "metadata": {},
     "output_type": "execute_result"
    }
   ],
   "source": [
    "import pandas as pd\n",
    "import numpy as np\n",
    "from scipy import stats\n",
    "from scipy.stats import norm\n",
    "\n",
    "# Load the dataset\n",
    "data=pd.read_csv('Cutlets.csv')\n",
    "data.head()"
   ]
  },
  {
   "cell_type": "code",
   "execution_count": 2,
   "id": "1d553b9b",
   "metadata": {},
   "outputs": [
    {
     "data": {
      "text/plain": [
       "0    6.8090\n",
       "1    6.4376\n",
       "2    6.9157\n",
       "3    7.3012\n",
       "4    7.4488\n",
       "Name: Unit A, dtype: float64"
      ]
     },
     "execution_count": 2,
     "metadata": {},
     "output_type": "execute_result"
    }
   ],
   "source": [
    "unit_a = pd.Series(data.iloc[:,0])\n",
    "unit_a.head()"
   ]
  },
  {
   "cell_type": "code",
   "execution_count": 3,
   "id": "16901e2c",
   "metadata": {},
   "outputs": [
    {
     "data": {
      "text/plain": [
       "0    6.7703\n",
       "1    7.5093\n",
       "2    6.7300\n",
       "3    6.7878\n",
       "4    7.1522\n",
       "Name: Unit B, dtype: float64"
      ]
     },
     "execution_count": 3,
     "metadata": {},
     "output_type": "execute_result"
    }
   ],
   "source": [
    "unit_b = pd.Series(data.iloc[:,1])\n",
    "unit_b.head()"
   ]
  },
  {
   "cell_type": "code",
   "execution_count": 4,
   "id": "fd7bb651",
   "metadata": {},
   "outputs": [
    {
     "name": "stdout",
     "output_type": "stream",
     "text": [
      "p_value_normality_a  0.31998491287231445\n",
      "p_value_normality_b  0.5225146412849426\n",
      "p_value_var  0.4176162212502553\n"
     ]
    }
   ],
   "source": [
    "# Assumption Checks\n",
    "\n",
    "# If p-value > 0.05, we can assume normality.\n",
    "_, p_value_normality_a = stats.shapiro(unit_a)\n",
    "_, p_value_normality_b = stats.shapiro(unit_b)\n",
    "\n",
    "# If p-value > 0.05, we can assume homogeneity of variances.\n",
    "_, p_value_var = stats.levene(unit_a, unit_b)\n",
    "\n",
    "print(\"p_value_normality_a \", p_value_normality_a)\n",
    "print(\"p_value_normality_b \", p_value_normality_b)\n",
    "print(\"p_value_var \", p_value_var)"
   ]
  },
  {
   "cell_type": "code",
   "execution_count": 5,
   "id": "defef9ce",
   "metadata": {},
   "outputs": [
    {
     "name": "stdout",
     "output_type": "stream",
     "text": [
      "Two-Sample t-Test: 0.4722394724599501\n",
      "Fail to reject the null hypothesis. There is no significant difference in the diameter of cutlets between Unit A and Unit B.\n"
     ]
    }
   ],
   "source": [
    "# Two-Sample t-Test\n",
    "t_stat, p_value_ttest = stats.ttest_ind(unit_a, unit_b, equal_var=True)\n",
    "print(\"Two-Sample t-Test:\", p_value_ttest)\n",
    "\n",
    "alpha = 0.05\n",
    "if p_value_ttest < alpha:\n",
    "    print('Reject the null hypothesis. There is significant difference in the diameter of cutlets between Unit A and Unit B.')\n",
    "else:\n",
    "    print('Fail to reject the null hypothesis. There is no significant difference in the diameter of cutlets between Unit A and Unit B.')\n"
   ]
  },
  {
   "cell_type": "markdown",
   "id": "e079271c",
   "metadata": {},
   "source": [
    "The result of the Two-Sample t-Test is 0.472\n",
    "\n",
    "Since the p-value from the t-test is more than the significance level,\n",
    "We can say that we fail to reject the null hypothesis.\n",
    "\n",
    "This suggests that there is not enough evidence to conclude a significant difference in the diameter of cutlets between Unit A and Unit B.\n",
    "\n",
    " Assumptions and tests that I had carried out to check the validity of the assumptions are:\n",
    " \n",
    " 1. Normality Assumption\n",
    " 2. Homogeneity of Variance Assumption\n",
    " 3. Two-Sample t-Test\n",
    "\n",
    "Conclusion: At the 5% significance level, based on the p-value from the t-test, there is insufficient evidence to reject the null hypothesis. Therefore, we do not have enough evidence to claim a significant difference in the diameter of cutlets between the two units.\n"
   ]
  }
 ],
 "metadata": {
  "kernelspec": {
   "display_name": "Python 3 (ipykernel)",
   "language": "python",
   "name": "python3"
  },
  "language_info": {
   "codemirror_mode": {
    "name": "ipython",
    "version": 3
   },
   "file_extension": ".py",
   "mimetype": "text/x-python",
   "name": "python",
   "nbconvert_exporter": "python",
   "pygments_lexer": "ipython3",
   "version": "3.10.12"
  }
 },
 "nbformat": 4,
 "nbformat_minor": 5
}
