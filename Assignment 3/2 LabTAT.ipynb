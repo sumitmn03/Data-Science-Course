{
 "cells": [
  {
   "cell_type": "markdown",
   "id": "34744367",
   "metadata": {},
   "source": [
    "- Null Hypothesis (H0): There is a no significant difference in average TAT among the laboratories.\n",
    "\n",
    "- Alternative Hypothesis (H1): There is a significant difference in average TAT among the laboratories."
   ]
  },
  {
   "cell_type": "markdown",
   "id": "148beb1c",
   "metadata": {},
   "source": [
    "To determine whether there is any difference in the average Turn Around Time (TAT) among the different laboratories, we can perform a one-way analysis of variance (ANOVA) test. This test is used when we have more than two groups (in this case, four laboratories) and want to compare their means."
   ]
  },
  {
   "cell_type": "code",
   "execution_count": 10,
   "id": "c7447ce6",
   "metadata": {},
   "outputs": [],
   "source": [
    "import pandas as pd\n",
    "import scipy.stats as stats"
   ]
  },
  {
   "cell_type": "code",
   "execution_count": 11,
   "id": "bcf3e929",
   "metadata": {},
   "outputs": [
    {
     "data": {
      "text/html": [
       "<div>\n",
       "<style scoped>\n",
       "    .dataframe tbody tr th:only-of-type {\n",
       "        vertical-align: middle;\n",
       "    }\n",
       "\n",
       "    .dataframe tbody tr th {\n",
       "        vertical-align: top;\n",
       "    }\n",
       "\n",
       "    .dataframe thead th {\n",
       "        text-align: right;\n",
       "    }\n",
       "</style>\n",
       "<table border=\"1\" class=\"dataframe\">\n",
       "  <thead>\n",
       "    <tr style=\"text-align: right;\">\n",
       "      <th></th>\n",
       "      <th>Laboratory 1</th>\n",
       "      <th>Laboratory 2</th>\n",
       "      <th>Laboratory 3</th>\n",
       "      <th>Laboratory 4</th>\n",
       "    </tr>\n",
       "  </thead>\n",
       "  <tbody>\n",
       "    <tr>\n",
       "      <th>0</th>\n",
       "      <td>185.35</td>\n",
       "      <td>165.53</td>\n",
       "      <td>176.70</td>\n",
       "      <td>166.13</td>\n",
       "    </tr>\n",
       "    <tr>\n",
       "      <th>1</th>\n",
       "      <td>170.49</td>\n",
       "      <td>185.91</td>\n",
       "      <td>198.45</td>\n",
       "      <td>160.79</td>\n",
       "    </tr>\n",
       "    <tr>\n",
       "      <th>2</th>\n",
       "      <td>192.77</td>\n",
       "      <td>194.92</td>\n",
       "      <td>201.23</td>\n",
       "      <td>185.18</td>\n",
       "    </tr>\n",
       "    <tr>\n",
       "      <th>3</th>\n",
       "      <td>177.33</td>\n",
       "      <td>183.00</td>\n",
       "      <td>199.61</td>\n",
       "      <td>176.42</td>\n",
       "    </tr>\n",
       "    <tr>\n",
       "      <th>4</th>\n",
       "      <td>193.41</td>\n",
       "      <td>169.57</td>\n",
       "      <td>204.63</td>\n",
       "      <td>152.60</td>\n",
       "    </tr>\n",
       "  </tbody>\n",
       "</table>\n",
       "</div>"
      ],
      "text/plain": [
       "   Laboratory 1  Laboratory 2  Laboratory 3  Laboratory 4\n",
       "0        185.35        165.53        176.70        166.13\n",
       "1        170.49        185.91        198.45        160.79\n",
       "2        192.77        194.92        201.23        185.18\n",
       "3        177.33        183.00        199.61        176.42\n",
       "4        193.41        169.57        204.63        152.60"
      ]
     },
     "execution_count": 11,
     "metadata": {},
     "output_type": "execute_result"
    }
   ],
   "source": [
    "# Load the dataset\n",
    "data=pd.read_csv('LabTAT.csv')\n",
    "data.head()"
   ]
  },
  {
   "cell_type": "code",
   "execution_count": 12,
   "id": "7c60f0c6",
   "metadata": {},
   "outputs": [
    {
     "data": {
      "text/plain": [
       "0    185.35\n",
       "1    170.49\n",
       "2    192.77\n",
       "3    177.33\n",
       "4    193.41\n",
       "Name: Laboratory 1, dtype: float64"
      ]
     },
     "execution_count": 12,
     "metadata": {},
     "output_type": "execute_result"
    }
   ],
   "source": [
    "lab1 = pd.Series(data.iloc[:,0])\n",
    "lab1 .head()"
   ]
  },
  {
   "cell_type": "code",
   "execution_count": 13,
   "id": "169b67e7",
   "metadata": {},
   "outputs": [
    {
     "data": {
      "text/plain": [
       "0    165.53\n",
       "1    185.91\n",
       "2    194.92\n",
       "3    183.00\n",
       "4    169.57\n",
       "Name: Laboratory 2, dtype: float64"
      ]
     },
     "execution_count": 13,
     "metadata": {},
     "output_type": "execute_result"
    }
   ],
   "source": [
    "lab2 = pd.Series(data.iloc[:,1])\n",
    "lab2 .head()"
   ]
  },
  {
   "cell_type": "code",
   "execution_count": 14,
   "id": "f5920a30",
   "metadata": {},
   "outputs": [
    {
     "data": {
      "text/plain": [
       "0    176.70\n",
       "1    198.45\n",
       "2    201.23\n",
       "3    199.61\n",
       "4    204.63\n",
       "Name: Laboratory 3, dtype: float64"
      ]
     },
     "execution_count": 14,
     "metadata": {},
     "output_type": "execute_result"
    }
   ],
   "source": [
    "lab3 = pd.Series(data.iloc[:,2])\n",
    "lab3 .head()"
   ]
  },
  {
   "cell_type": "code",
   "execution_count": 15,
   "id": "366951ac",
   "metadata": {},
   "outputs": [
    {
     "data": {
      "text/plain": [
       "0    166.13\n",
       "1    160.79\n",
       "2    185.18\n",
       "3    176.42\n",
       "4    152.60\n",
       "Name: Laboratory 4, dtype: float64"
      ]
     },
     "execution_count": 15,
     "metadata": {},
     "output_type": "execute_result"
    }
   ],
   "source": [
    "lab4 = pd.Series(data.iloc[:,3])\n",
    "lab4 .head()"
   ]
  },
  {
   "cell_type": "code",
   "execution_count": 16,
   "id": "abf0eaa6",
   "metadata": {},
   "outputs": [
    {
     "name": "stdout",
     "output_type": "stream",
     "text": [
      "F-statistic: 118.70421654401437\n",
      "P-value: 2.1156708949992414e-57\n",
      "Reject the null hypothesis. There is a significant difference in average TAT among the laboratories.\n"
     ]
    }
   ],
   "source": [
    "# Perform one-way ANOVA\n",
    "f_statistic, p_value = stats.f_oneway(lab1, lab2, lab3, lab4)\n",
    "\n",
    "# Print results\n",
    "print(f'F-statistic: {f_statistic}')\n",
    "print(f'P-value: {p_value}')\n",
    "\n",
    "# Check significance at 5% level\n",
    "alpha = 0.05\n",
    "if p_value < alpha:\n",
    "    print('Reject the null hypothesis. There is a significant difference in average TAT among the laboratories.')\n",
    "else:\n",
    "    print('Fail to reject the null hypothesis. There is no significant difference in average TAT among the laboratories.')\n"
   ]
  },
  {
   "cell_type": "markdown",
   "id": "30cae6d7",
   "metadata": {},
   "source": [
    "The result of the ANOVA test is 2.115\n",
    "\n",
    "Since the p-value from the ANOVA test is more than the significance level, We can say that we fail to reject the null hypothesis."
   ]
  }
 ],
 "metadata": {
  "kernelspec": {
   "display_name": "Python 3 (ipykernel)",
   "language": "python",
   "name": "python3"
  },
  "language_info": {
   "codemirror_mode": {
    "name": "ipython",
    "version": 3
   },
   "file_extension": ".py",
   "mimetype": "text/x-python",
   "name": "python",
   "nbconvert_exporter": "python",
   "pygments_lexer": "ipython3",
   "version": "3.10.12"
  }
 },
 "nbformat": 4,
 "nbformat_minor": 5
}
